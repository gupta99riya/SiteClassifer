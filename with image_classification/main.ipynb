{
 "cells": [
  {
   "cell_type": "code",
   "execution_count": 5,
   "metadata": {},
   "outputs": [
    {
     "name": "stdout",
     "output_type": "stream",
     "text": [
      "Successfully extracted the screenshot of url: canadapharmacymedonline  start time: 2024-12-16 02:01:24.655477\n",
      "ss/canadapharmacymedonline.png\n"
     ]
    }
   ],
   "source": [
    "!python full_screenshot.py"
   ]
  },
  {
   "cell_type": "code",
   "execution_count": 6,
   "metadata": {},
   "outputs": [],
   "source": [
    "from selenium import webdriver\n",
    "from selenium.webdriver.common.by import By\n",
    "from selenium.webdriver.common.keys import Keys\n",
    "from selenium.webdriver.chrome.service import Service\n",
    "# from webdriver_manager.chrome import ChromeDriverManager\n",
    "import pandas as pd\n",
    "import time\n",
    "import os.path\n",
    "from datetime import datetime\n",
    "\n",
    "from selenium.webdriver.chrome.options import Options\n",
    "\n",
    "from urllib.parse import urlparse"
   ]
  },
  {
   "cell_type": "code",
   "execution_count": 24,
   "metadata": {},
   "outputs": [],
   "source": [
    "import pandas as pd \n",
    "# pd.read_excel(\"../MC_w_text.xlsx\",sheet_name= \"Sheet1\")\n",
    "df = pd.read_csv(\"Main_data_org.csv\").iloc[:2]"
   ]
  },
  {
   "cell_type": "code",
   "execution_count": 4,
   "metadata": {},
   "outputs": [],
   "source": [
    "import json\n",
    "import time\n",
    "import tiktoken\n",
    "from model import invoke_model\n",
    "from prompt import generate_prompt\n",
    "\n",
    "def num_tokens_from_string(text: str, encoding_name='cl100k_base') -> int:\n",
    "    \"\"\"Returns the number of tokens in a text string.\"\"\"\n",
    "    encoding = tiktoken.get_encoding(encoding_name)\n",
    "    return len(encoding.encode(text))\n",
    "\n",
    "def read_txt_file(text_file_path: str) -> str:\n",
    "    \"\"\"Read the text from a file.\"\"\"\n",
    "    with open(text_file_path, 'r', encoding='utf-8') as file:\n",
    "        return file.read()\n",
    "    \n",
    "# Apply the function to the DataFrame\n",
    "process_df['text'] = process_df['Path'].apply(lambda path: pd.Series(read_txt_file(f\"{path}\")))\n"
   ]
  },
  {
   "cell_type": "code",
   "execution_count": 13,
   "metadata": {},
   "outputs": [
    {
     "name": "stdout",
     "output_type": "stream",
     "text": [
      "Online pharmacies\n"
     ]
    }
   ],
   "source": [
    "for idx,row in process_df[1:2].iterrows():\n",
    "    url =row['url']\n",
    "    html_code = row['text']\n",
    "    img_path = \"ss_test/\"+row[\"image_path\"].split(\"/\")[-1]\n",
    "    prompt = generate_prompt(url, html_code)\n",
    "    # Adjust prompt if token count exceeds the limit\n",
    "    if num_tokens_from_string(prompt) > 6000:\n",
    "        html_code = html_code[:24000]\n",
    "        prompt = generate_prompt(url, html_code)\n",
    "\n",
    "    # Invoke model and handle exceptions\n",
    "    try:\n",
    "        response = invoke_model(img_path,prompt)\n",
    "        print(response)\n",
    "    except Exception as e:\n",
    "        print(e)\n",
    "    \n",
    "    \n",
    "    # if response:\n",
    "    #     process_df.loc[idx, \"com_pred\"]= response\n",
    "    # else:\n",
    "    #     time.sleep(60)\n",
    "    #     response = invoke_model(prompt)\n",
    "    #     process_df.loc[idx, \"com_pred\"]= response"
   ]
  },
  {
   "cell_type": "code",
   "execution_count": null,
   "metadata": {},
   "outputs": [],
   "source": []
  }
 ],
 "metadata": {
  "kernelspec": {
   "display_name": "base",
   "language": "python",
   "name": "python3"
  },
  "language_info": {
   "codemirror_mode": {
    "name": "ipython",
    "version": 3
   },
   "file_extension": ".py",
   "mimetype": "text/x-python",
   "name": "python",
   "nbconvert_exporter": "python",
   "pygments_lexer": "ipython3",
   "version": "3.12.6"
  }
 },
 "nbformat": 4,
 "nbformat_minor": 2
}
